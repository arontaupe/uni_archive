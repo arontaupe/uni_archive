{
 "cells": [
  {
   "cell_type": "markdown",
   "metadata": {
    "deletable": false,
    "editable": false,
    "nbgrader": {
     "cell_type": "markdown",
     "checksum": "be568857efc874d61cb20632e5d23037",
     "grade": false,
     "grade_id": "h00",
     "locked": true,
     "schema_version": 3,
     "solution": false
    }
   },
   "source": [
    "Osnabrück University - Computer Vision (Winter Term 2019/20) - Prof. Dr.-Ing. G. Heidemann, Ulf Krumnack, Axel Schaffland"
   ]
  },
  {
   "cell_type": "markdown",
   "metadata": {
    "deletable": false,
    "editable": false,
    "nbgrader": {
     "cell_type": "markdown",
     "checksum": "72e6c38ffd94fdc398bc5635fde16791",
     "grade": false,
     "grade_id": "h01",
     "locked": true,
     "schema_version": 3,
     "solution": false
    }
   },
   "source": [
    "# Exercise Sheet 00: Preparation"
   ]
  },
  {
   "cell_type": "markdown",
   "metadata": {
    "deletable": false,
    "editable": false,
    "nbgrader": {
     "cell_type": "markdown",
     "checksum": "5c7a1988dc97f071306e0a11d0c90492",
     "grade": false,
     "grade_id": "h02",
     "locked": true,
     "schema_version": 3,
     "solution": false
    }
   },
   "source": [
    "## Introduction\n",
    "\n",
    "The homework sheets will usually be available on Saturday and are supposed to be solved in groups of three. They have to be handed in before Sunday morning of the following week. The exercises are then presented to your tutor in a small feedback session. To acquire the admission for the final exam, you will have to pass $N-2$ of the weekly provided exercise sheets.\n",
    "\n",
    "Sign up for a group on Stud.IP (See `Participants` -> `Functions/Groups`). The times mentioned there are the times for the feedback session of your group. If none of them fits, send any of the tutors an e-mail so we can try to arrange something. \n",
    "\n",
    "Your group will have a group folder in Stud.IP under `Documents`. Upload your solutions there to hand them in.\n",
    "\n",
    "This week's sheet should be solved and handed in before the end of **Saturday, November 9, 2019**. \n",
    "Please upload your results to your group's Stud.IP folder. In case you cannot do this first sheet (due to technical or organizational problems) please upload a description of your problem instead. Your tutor will help you to solve the problems in the first feedback session and you may hand in this sheet together with the second sheet one week later."
   ]
  },
  {
   "cell_type": "markdown",
   "metadata": {
    "deletable": false,
    "editable": false,
    "nbgrader": {
     "cell_type": "markdown",
     "checksum": "37c5fbf4bfa5f48f3b60a749811efbb3",
     "grade": false,
     "grade_id": "ex-setup3",
     "locked": true,
     "schema_version": 3,
     "solution": false
    }
   },
   "source": [
    "## c) Assignment 0: Check your installation [0 Points]\n",
    "Check that your installation succeeded and all required packages are available by executing the following cell (type <kbd>Ctrl</kbd>+<kbd>&#x23ce;</kbd>, on German keyboards <kbd>Strg</kbd>+<kbd>&#x23ce;</kbd>, or press the \"run cell\"-button at the toolbar above):"
   ]
  },
  {
   "cell_type": "code",
   "execution_count": null,
   "metadata": {},
   "outputs": [],
   "source": [
    "import importlib\n",
    "assert importlib.util.find_spec('numpy') is not None , 'numpy not found'\n",
    "assert importlib.util.find_spec('matplotlib') is not None, 'matplotlib not found'\n",
    "assert importlib.util.find_spec('imageio') is not None , 'imageio not found'\n",
    "assert importlib.util.find_spec('scipy') is not None , 'scipy not found'"
   ]
  },
  {
   "cell_type": "markdown",
   "metadata": {
    "collapsed": true,
    "deletable": false,
    "editable": false,
    "nbgrader": {
     "cell_type": "markdown",
     "checksum": "ed8ffe4e635aca394944f75145fe4780",
     "grade": false,
     "grade_id": "ex-setup-remarks",
     "locked": true,
     "schema_version": 3,
     "solution": false
    }
   },
   "source": [
    "### Remarks:\n",
    "\n",
    "* If you experience any troubles, ask your fellow students or send us an e-mail - we are always happy to help.\n",
    "* If you do not want to use Python to do the exercises, but prefer another programming language, you may ask the tutors if they are willing to support it. However, the practice sessions will focus on Python and will probably not cover other languages."
   ]
  },
  {
   "cell_type": "markdown",
   "metadata": {
    "deletable": false,
    "editable": false,
    "nbgrader": {
     "cell_type": "markdown",
     "checksum": "a0dc526578e22eb5fdc166e15455f60d",
     "grade": false,
     "grade_id": "cell-d79a9e4f15cd77ba",
     "locked": true,
     "schema_version": 3,
     "solution": false,
     "task": false
    }
   },
   "source": [
    "## Assignment 1: Pinhole Camera and One Chip Cameras [5 Points]\n",
    "\n",
    "In this assignment we will use the pinhole camera model and formulae from slides CV-02 page 10.\n",
    "\n",
    "Imagine a very low budget autonomous car with a pinhole camera with a focal length of $24\\,\\text{mm}$ at the front."
   ]
  },
  {
   "cell_type": "markdown",
   "metadata": {
    "deletable": false,
    "editable": false,
    "nbgrader": {
     "cell_type": "markdown",
     "checksum": "04d7711090a0b8a423617a897dda342e",
     "grade": false,
     "grade_id": "cell-665a39d299146b0c",
     "locked": true,
     "schema_version": 3,
     "solution": false,
     "task": false
    }
   },
   "source": [
    "**(a)** A pedestrian walks in front of the car. On the camera sensor the image of the person has a height of $12\\,\\text{mm}$. Assume that the person is of average height of $1.70\\,\\text{m}$. How far is the car away from the person?"
   ]
  },
  {
   "cell_type": "markdown",
   "metadata": {
    "deletable": false,
    "nbgrader": {
     "cell_type": "markdown",
     "checksum": "cdc41351f4850e52934f9f2c2f4065ea",
     "grade": true,
     "grade_id": "cell-03b0f48b1afa879b",
     "locked": false,
     "points": 2,
     "schema_version": 3,
     "solution": true,
     "task": false
    }
   },
   "source": [
    "YOUR ANSWER HERE"
   ]
  },
  {
   "cell_type": "markdown",
   "metadata": {
    "deletable": false,
    "editable": false,
    "nbgrader": {
     "cell_type": "markdown",
     "checksum": "dbedc505f9a8ec67710bc5b32be7e102",
     "grade": false,
     "grade_id": "cell-a4271649eb839f90",
     "locked": true,
     "schema_version": 3,
     "solution": false,
     "task": false
    }
   },
   "source": [
    "**(b)** A rectangular traffic sign with a width of $0.75\\,\\text{m}$ and a height of $0.50\\,\\text{m}$ is $2\\,\\text{m}$ away from the front of the same car with the same camera. This camera is a One Chip Camera with a Bayer Filter. Each colour pixel has a size of $10\\,\\text{μm}$ How many green pixels are inside the image of the traffic sign?"
   ]
  },
  {
   "cell_type": "markdown",
   "metadata": {
    "deletable": false,
    "nbgrader": {
     "cell_type": "markdown",
     "checksum": "69880b89f2133092110bc2eaf66b2d33",
     "grade": true,
     "grade_id": "cell-4c5fa7d6d0b8dabe",
     "locked": false,
     "points": 3,
     "schema_version": 3,
     "solution": true,
     "task": false
    }
   },
   "source": [
    "YOUR ANSWER HERE"
   ]
  },
  {
   "cell_type": "markdown",
   "metadata": {
    "deletable": false,
    "editable": false,
    "nbgrader": {
     "cell_type": "markdown",
     "checksum": "d0bd0c9f2f872152da774b40ddf9d970",
     "grade": false,
     "grade_id": "cell-e2b9ea6540929a58",
     "locked": true,
     "schema_version": 3,
     "solution": false
    }
   },
   "source": [
    "## Assignment 2: Image I/O [5 Points]\n",
    "\n",
    "`imageio` is a Python library that provides an easy interface to read and write a wide range of image data. The goal of this exercise is to get familiar with different ways of obtaining images for further processing."
   ]
  },
  {
   "cell_type": "markdown",
   "metadata": {
    "deletable": false,
    "editable": false,
    "nbgrader": {
     "cell_type": "markdown",
     "checksum": "ba56f85fdd505f8e7cc55ab60b73dc04",
     "grade": false,
     "grade_id": "cell-dfb47c896b16d37b",
     "locked": true,
     "schema_version": 3,
     "solution": false
    }
   },
   "source": [
    "**a) Example images:** `imageio` provides a number of example images, which can be loaded by the special URI `imageio:`. These include classic 2D images, as well as animated and volumetric images. \n",
    "\n",
    "Find out what other images are provided and how these are represented when loaded as numpy array."
   ]
  },
  {
   "cell_type": "code",
   "execution_count": null,
   "metadata": {
    "deletable": false,
    "nbgrader": {
     "cell_type": "code",
     "checksum": "f19b655148c7c15e51d2cd8cebc1eded",
     "grade": true,
     "grade_id": "cell-4c4e189c29e97763",
     "locked": false,
     "points": 1,
     "schema_version": 3,
     "solution": true
    }
   },
   "outputs": [],
   "source": [
    "%matplotlib inline\n",
    "import matplotlib.pyplot as plt\n",
    "import imageio\n",
    "\n",
    "filename = 'chelsea.png'\n",
    "\n",
    "# YOUR CODE HERE\n",
    "\n",
    "im =  imageio.imread('imageio:' + filename)\n",
    "\n",
    "plt.figure()\n",
    "plt.title(f\"{filename}: {im.shape}\")\n",
    "plt.imshow(im)\n",
    "plt.show()"
   ]
  },
  {
   "cell_type": "markdown",
   "metadata": {
    "deletable": false,
    "editable": false,
    "nbgrader": {
     "cell_type": "markdown",
     "checksum": "c8b649799026c06303ec34fd4a52b297",
     "grade": false,
     "grade_id": "cell-0dfa25076996bb59",
     "locked": true,
     "schema_version": 3,
     "solution": false
    }
   },
   "source": [
    "**(b) Loading an image from a file**. Usually, you will have to load images from a file. We have uploaded an example image to the StudIP folder along with this exercise sheet. Load that image using the `imageio` library."
   ]
  },
  {
   "cell_type": "code",
   "execution_count": null,
   "metadata": {
    "deletable": false,
    "nbgrader": {
     "cell_type": "code",
     "checksum": "ada7f8dc8c5252bc7b5de9d82d9c9997",
     "grade": true,
     "grade_id": "cell-b9de9ac530ecf609",
     "locked": false,
     "points": 1,
     "schema_version": 3,
     "solution": true
    }
   },
   "outputs": [],
   "source": [
    "%matplotlib inline\n",
    "import matplotlib.pyplot as plt\n",
    "\n",
    "# YOUR CODE HERE\n",
    "\n",
    "plt.figure()\n",
    "plt.title(f\"Image: {im.shape}\")\n",
    "plt.imshow(im)\n",
    "plt.show()"
   ]
  },
  {
   "cell_type": "markdown",
   "metadata": {
    "deletable": false,
    "editable": false,
    "nbgrader": {
     "cell_type": "markdown",
     "checksum": "1d8885ef34b009a074714c6c078d150f",
     "grade": false,
     "grade_id": "cell-d55e25d7535d0978",
     "locked": true,
     "schema_version": 3,
     "solution": false
    }
   },
   "source": [
    "**(c) Download an image from the web**. `imageio` also allows to load images from arbitrary URLs. Download an image from a URL of your choice and display it."
   ]
  },
  {
   "cell_type": "code",
   "execution_count": null,
   "metadata": {
    "deletable": false,
    "nbgrader": {
     "cell_type": "code",
     "checksum": "a7bea60c68d3a38c157ec25fc3492a71",
     "grade": true,
     "grade_id": "cell-5be8094ec03ecc4e",
     "locked": false,
     "points": 1,
     "schema_version": 3,
     "solution": true
    }
   },
   "outputs": [],
   "source": [
    "%matplotlib inline\n",
    "import matplotlib.pyplot as plt\n",
    "import imageio\n",
    "\n",
    "# YOUR CODE HERE"
   ]
  },
  {
   "cell_type": "markdown",
   "metadata": {
    "deletable": false,
    "editable": false,
    "nbgrader": {
     "cell_type": "markdown",
     "checksum": "a835a8c688f8f09a84df01ee1f10183c",
     "grade": false,
     "grade_id": "cell-8486e2482bc8265b",
     "locked": true,
     "schema_version": 3,
     "solution": false
    }
   },
   "source": [
    "**(d) Storing image as file.** The function `imageio.imsave()` can be used to store images on your harddrive. Mark the head of the cameraman with a rectangle and store the resulting image in a file. Check the saved image with some external program."
   ]
  },
  {
   "cell_type": "code",
   "execution_count": null,
   "metadata": {
    "deletable": false,
    "nbgrader": {
     "cell_type": "code",
     "checksum": "e531f2d7dcd5f90eb49e113e57beadec",
     "grade": true,
     "grade_id": "cell-b38e5d41512dc3c2",
     "locked": false,
     "points": 2,
     "schema_version": 3,
     "solution": true
    }
   },
   "outputs": [],
   "source": [
    "%matplotlib inline\n",
    "import matplotlib.pyplot as plt\n",
    "import imageio\n",
    "\n",
    "im =  imageio.imread('imageio:camera.png')\n",
    "\n",
    "# YOUR CODE HERE\n",
    "\n",
    "plt.figure(figsize=(12,12))\n",
    "plt.title(f\"Image: {im.shape}\")\n",
    "plt.imshow(im)\n",
    "plt.show()"
   ]
  },
  {
   "cell_type": "markdown",
   "metadata": {
    "deletable": false,
    "editable": false,
    "nbgrader": {
     "cell_type": "markdown",
     "checksum": "c33169c915d717e233b3330ad3f68c29",
     "grade": false,
     "grade_id": "cell-92a05cbfd7ea0add",
     "locked": true,
     "schema_version": 3,
     "solution": false,
     "task": false
    }
   },
   "source": [
    "**(e) Acquire image from webcam (bonus)** `imageio` also allows to acquire images from a webcam. However, accessing the webcam relies on external software and requires that your operating system grants access to the webcam. Try to make the following cell work!"
   ]
  },
  {
   "cell_type": "code",
   "execution_count": null,
   "metadata": {},
   "outputs": [],
   "source": [
    "%matplotlib inline\n",
    "import matplotlib.pyplot as plt\n",
    "import imageio\n",
    "\n",
    "reader = imageio.get_reader('<video0>')\n",
    "im = reader.get_next_data()\n",
    "\n",
    "plt.figure()\n",
    "plt.title(f\"Webcam image: {im.shape}\")\n",
    "plt.imshow(im)\n",
    "plt.show()"
   ]
  },
  {
   "cell_type": "markdown",
   "metadata": {
    "deletable": false,
    "editable": false,
    "nbgrader": {
     "cell_type": "markdown",
     "checksum": "042b2593b1bf0be937533a065ce8f8aa",
     "grade": false,
     "grade_id": "cell-38b7f34be3403b53",
     "locked": true,
     "schema_version": 3,
     "solution": false
    }
   },
   "source": [
    "## Assignment 3: Displaying images [5 Points]\n",
    "\n",
    "In exercises and during the practice sessions, we will make extensive use of `matplotlib`'s `imshow` function for displaying images. Properly understanding the details of how this function works is essential to avoid problems later on. Take a close look at the documentation and then answer the following questions:"
   ]
  },
  {
   "cell_type": "markdown",
   "metadata": {
    "deletable": false,
    "editable": false,
    "nbgrader": {
     "cell_type": "markdown",
     "checksum": "7eae8670f4da9f34b0849f06e5a042c0",
     "grade": false,
     "grade_id": "cell-75af10dfb6197e3d",
     "locked": true,
     "schema_version": 3,
     "solution": false,
     "task": false
    }
   },
   "source": [
    "**(a) Origin:** The default behaviour of `imshow` is to display the origin (the point with coordinates (0,0)) at the upper left corner. How can you change this to the lower left corner (as it is usually done in mathematical contexts when displaying graphs)?"
   ]
  },
  {
   "cell_type": "code",
   "execution_count": null,
   "metadata": {
    "deletable": false,
    "nbgrader": {
     "cell_type": "code",
     "checksum": "82eec79335756bf9548718412274e546",
     "grade": true,
     "grade_id": "cell-859fbd418004678f",
     "locked": false,
     "points": 1,
     "schema_version": 3,
     "solution": true,
     "task": false
    }
   },
   "outputs": [],
   "source": [
    "%matplotlib inline\n",
    "import matplotlib.pyplot as plt\n",
    "import imageio\n",
    "\n",
    "im = imageio.imread(\"imageio:camera.png\")\n",
    "\n",
    "plt.figure()\n",
    "plt.title(f\"shape: {im.shape}\")\n",
    "# YOUR CODE HERE\n",
    "plt.show()"
   ]
  },
  {
   "cell_type": "markdown",
   "metadata": {
    "deletable": false,
    "editable": false,
    "nbgrader": {
     "cell_type": "markdown",
     "checksum": "cc144d4784c3d5949f5c46df7e063f86",
     "grade": false,
     "grade_id": "cell-213eeac484b06e9c",
     "locked": true,
     "schema_version": 3,
     "solution": false
    }
   },
   "source": [
    "**(b) Monochrome images:** When displaying monochrome images (that is 2-dimensional arrays), they will by default not be displayed as grayscale by `imshow` but rather appear yellow-greenish. Explain why this is the case and how you can achieve  grayscale output."
   ]
  },
  {
   "cell_type": "markdown",
   "metadata": {
    "deletable": false,
    "nbgrader": {
     "cell_type": "markdown",
     "checksum": "20fb906d9e21e75da9a9827e516a0887",
     "grade": true,
     "grade_id": "cell-2fc0ab8469dd504b",
     "locked": false,
     "points": 0.5,
     "schema_version": 3,
     "solution": true
    }
   },
   "source": [
    "YOUR ANSWER HERE"
   ]
  },
  {
   "cell_type": "code",
   "execution_count": null,
   "metadata": {
    "deletable": false,
    "nbgrader": {
     "cell_type": "code",
     "checksum": "e6df09f1b365cf1f5d2fe4a4d24ac7bd",
     "grade": true,
     "grade_id": "cell-22b8021c9ab6b152",
     "locked": false,
     "points": 0.5,
     "schema_version": 3,
     "solution": true
    }
   },
   "outputs": [],
   "source": [
    "%matplotlib inline\n",
    "import matplotlib.pyplot as plt\n",
    "import imageio\n",
    "\n",
    "im = imageio.imread(\"imageio:camera.png\")\n",
    "\n",
    "plt.figure()\n",
    "plt.title(f\"shape: {im.shape}\")\n",
    "# YOUR CODE HERE\n",
    "plt.imshow(im)\n",
    "plt.show()"
   ]
  },
  {
   "cell_type": "markdown",
   "metadata": {
    "deletable": false,
    "editable": false,
    "nbgrader": {
     "cell_type": "markdown",
     "checksum": "a3a0600a7df0ede3f98b31608dfb8c12",
     "grade": false,
     "grade_id": "cell-be882dcd39e9375a",
     "locked": true,
     "schema_version": 3,
     "solution": false
    }
   },
   "source": [
    "**(c) interpolation:** Demonstrate the effect of the `interpolation=` parameter on a small (e.g. $4\\times 4$) image. Discuss in what situations you would use which interpolation technique."
   ]
  },
  {
   "cell_type": "markdown",
   "metadata": {
    "deletable": false,
    "nbgrader": {
     "cell_type": "markdown",
     "checksum": "b79b7ffcbab0cf6d575bf56f5a9f28d2",
     "grade": true,
     "grade_id": "cell-40b940437c4c0ae5",
     "locked": false,
     "points": 1,
     "schema_version": 3,
     "solution": true
    }
   },
   "source": [
    "YOUR ANSWER HERE"
   ]
  },
  {
   "cell_type": "code",
   "execution_count": null,
   "metadata": {},
   "outputs": [],
   "source": [
    "%matplotlib inline\n",
    "import numpy as np\n",
    "import matplotlib.pyplot as plt\n",
    "\n",
    "im = np.random.randint(0,16,(4,4))\n",
    "\n",
    "plt.figure()\n",
    "plt.title(f\"Image: {im.shape}\")\n",
    "plt.imshow(im, interpolation=\"none\")\n",
    "plt.show()"
   ]
  },
  {
   "cell_type": "markdown",
   "metadata": {
    "deletable": false,
    "editable": false,
    "nbgrader": {
     "cell_type": "markdown",
     "checksum": "81bc15522c63a730094689813dc12ded",
     "grade": false,
     "grade_id": "cell-9f869cf13a972e4d",
     "locked": true,
     "schema_version": 3,
     "solution": false
    }
   },
   "source": [
    "**(d)** Consider the following example: Two images are created, one with values in the range $[0,128[$, the other with values in the range $[0,256[$. Yet both images appear identical when displayed with `imshow`. Explain this effect and what to do to make the first image appear darker."
   ]
  },
  {
   "cell_type": "markdown",
   "metadata": {
    "deletable": false,
    "nbgrader": {
     "cell_type": "markdown",
     "checksum": "2c2550e1e19067cc8f196e352317c165",
     "grade": true,
     "grade_id": "cell-ba0b895740412a54",
     "locked": false,
     "points": 1,
     "schema_version": 3,
     "solution": true
    }
   },
   "source": [
    "YOUR ANSWER HERE"
   ]
  },
  {
   "cell_type": "code",
   "execution_count": null,
   "metadata": {},
   "outputs": [],
   "source": [
    "%matplotlib inline\n",
    "import numpy as np\n",
    "import matplotlib.pyplot as plt\n",
    "\n",
    "im1 = np.arange(0,128).reshape(8,16)\n",
    "im2 = np.arange(0,256,2).reshape(8,16)\n",
    "\n",
    "plt.figure(figsize=(12,3))\n",
    "plt.subplot(1,2,1)\n",
    "plt.title(f\"Image1: {im1.min()}-{im1.max()}\")\n",
    "plt.imshow(im1)\n",
    "plt.subplot(1,2,2)\n",
    "plt.title(f\"Image1: {im2.min()}-{im2.max()}\")\n",
    "plt.imshow(im2)\n",
    "plt.show()"
   ]
  },
  {
   "cell_type": "markdown",
   "metadata": {
    "deletable": false,
    "editable": false,
    "nbgrader": {
     "cell_type": "markdown",
     "checksum": "9edf9daaad32840d5a88d357d7af808c",
     "grade": false,
     "grade_id": "cell-3fdf7b0b1dd58f16",
     "locked": true,
     "schema_version": 3,
     "solution": false
    }
   },
   "source": [
    "**(e)** Explain in your own words the effect of the `extent=` parameter. Create a small example demonstrating the effect."
   ]
  },
  {
   "cell_type": "markdown",
   "metadata": {
    "deletable": false,
    "nbgrader": {
     "cell_type": "markdown",
     "checksum": "7f3b4397df5836e6f1421d168ecc6a11",
     "grade": true,
     "grade_id": "cell-3da2b447d11b998c",
     "locked": false,
     "points": 0.5,
     "schema_version": 3,
     "solution": true,
     "task": false
    }
   },
   "source": [
    "YOUR ANSWER HERE"
   ]
  },
  {
   "cell_type": "code",
   "execution_count": null,
   "metadata": {
    "deletable": false,
    "nbgrader": {
     "cell_type": "code",
     "checksum": "976c3d978887722a87d3ffcd7bf02959",
     "grade": true,
     "grade_id": "cell-df27e8647a557b96",
     "locked": false,
     "points": 0.5,
     "schema_version": 3,
     "solution": true,
     "task": false
    }
   },
   "outputs": [],
   "source": [
    "%matplotlib inline\n",
    "import matplotlib.pyplot as plt\n",
    "import imageio\n",
    "\n",
    "im = imageio.imread(\"imageio:camera.png\")\n",
    "\n",
    "plt.figure()\n",
    "plt.title(f\"Image: {im.shape}\")\n",
    "# YOUR CODE HERE\n",
    "plt.show()"
   ]
  },
  {
   "cell_type": "markdown",
   "metadata": {
    "deletable": false,
    "editable": false,
    "nbgrader": {
     "cell_type": "markdown",
     "checksum": "84f581ddb106889ea5756713de474e43",
     "grade": false,
     "grade_id": "cell-525292a528bb2f53",
     "locked": true,
     "schema_version": 3,
     "solution": false,
     "task": false
    }
   },
   "source": [
    "## Assignment 5: Noise [5 Points]\n",
    "\n",
    "In this asignemnt we will use `numpy.random` functions to add artificial noise to one of our images. Normally, we are interested in removing noise from images. However, if we want to make an algorithm robust against noise, we might want to create artificial images with controlled noise."
   ]
  },
  {
   "cell_type": "markdown",
   "metadata": {
    "deletable": false,
    "editable": false,
    "nbgrader": {
     "cell_type": "markdown",
     "checksum": "b96d528112f6adf07387f558e3163831",
     "grade": false,
     "grade_id": "cell-276edd2e7adad70b",
     "locked": true,
     "schema_version": 3,
     "solution": false,
     "task": false
    }
   },
   "source": [
    "**(a)** Add Gaussian noise to an image with the help of ``numpy.random.normal``. Try different standard deviations of the distribution. A good starting value would be $20$."
   ]
  },
  {
   "cell_type": "code",
   "execution_count": null,
   "metadata": {
    "deletable": false,
    "nbgrader": {
     "cell_type": "code",
     "checksum": "d7944ed3151e70faac8d2021b4782bca",
     "grade": true,
     "grade_id": "cell-3c2e25df2b9643c7",
     "locked": false,
     "points": 1,
     "schema_version": 3,
     "solution": true,
     "task": false
    }
   },
   "outputs": [],
   "source": [
    "%matplotlib inline\n",
    "import matplotlib.pyplot as plt\n",
    "import imageio\n",
    "import numpy as np\n",
    "\n",
    "sigma = 20\n",
    "im = imageio.imread(\"imageio:camera.png\")\n",
    "\n",
    "im_noisy = im.copy()\n",
    "\n",
    "# YOUR CODE HERE\n",
    "\n",
    "plt.figure()\n",
    "plt.gray()\n",
    "plt.imshow(im)\n",
    "plt.figure()\n",
    "plt.imshow(im_noisy)\n",
    "plt.figure()\n",
    "plt.imshow(im[100:200,200:300])\n",
    "plt.figure()\n",
    "plt.imshow(im_noisy[100:200,200:300])\n",
    "plt.show()"
   ]
  },
  {
   "cell_type": "markdown",
   "metadata": {
    "deletable": false,
    "editable": false,
    "nbgrader": {
     "cell_type": "markdown",
     "checksum": "4ab28911fe903a99fb091cd809068c45",
     "grade": false,
     "grade_id": "cell-78af062585379798",
     "locked": true,
     "schema_version": 3,
     "solution": false
    }
   },
   "source": [
    "**(b)** Add Salt-and-pepper noise to one of our images. Create one image with $5\\%$ noise and one with $50\\%$. Experiment with other values. Trick question: When is the noise disruptive?"
   ]
  },
  {
   "cell_type": "code",
   "execution_count": null,
   "metadata": {
    "deletable": false,
    "nbgrader": {
     "cell_type": "code",
     "checksum": "12f8d8287875326aea5ebd951857bd1f",
     "grade": true,
     "grade_id": "cell-2a29c02d6c0d059a",
     "locked": false,
     "points": 2,
     "schema_version": 3,
     "solution": true,
     "task": false
    }
   },
   "outputs": [],
   "source": [
    "%matplotlib inline\n",
    "import matplotlib.pyplot as plt\n",
    "import imageio\n",
    "import numpy as np\n",
    "\n",
    "noise_ratio = .05\n",
    "im = imageio.imread(\"imageio:camera.png\")\n",
    "\n",
    "im_noisy = im.copy()\n",
    "\n",
    "# YOUR CODE HERE\n",
    "\n",
    "plt.figure()\n",
    "plt.gray()\n",
    "plt.imshow(im)\n",
    "plt.figure()\n",
    "plt.imshow(im_noisy)\n",
    "plt.figure()\n",
    "plt.imshow(im[100:200,200:300])\n",
    "plt.figure()\n",
    "plt.imshow(im_noisy[100:200,200:300])\n",
    "plt.show()"
   ]
  },
  {
   "cell_type": "markdown",
   "metadata": {
    "deletable": false,
    "nbgrader": {
     "cell_type": "markdown",
     "checksum": "0ef33a1c057b184c6b49154a58aaa93b",
     "grade": true,
     "grade_id": "cell-50232e4f7c3be90c",
     "locked": false,
     "points": 1,
     "schema_version": 3,
     "solution": true
    }
   },
   "source": [
    "YOUR ANSWER HERE"
   ]
  },
  {
   "cell_type": "markdown",
   "metadata": {
    "deletable": false,
    "editable": false,
    "nbgrader": {
     "cell_type": "markdown",
     "checksum": "5c98875db26bb7406a488a460964c27e",
     "grade": false,
     "grade_id": "cell-eb96071f6d05c7df",
     "locked": true,
     "schema_version": 3,
     "solution": false
    }
   },
   "source": [
    "**(c)** How could we remove noise from an image. Do you have an idea for Gaussian Noise? Do you have an idea for Salt-and-pepper noise? This is a brainstorming questions! We do not except working solutions but ideas on how you would approach the problem!"
   ]
  },
  {
   "cell_type": "markdown",
   "metadata": {
    "deletable": false,
    "nbgrader": {
     "cell_type": "markdown",
     "checksum": "8b96fc9ba80e28fb4b946674409c237d",
     "grade": true,
     "grade_id": "cell-dc0638e930538dcd",
     "locked": false,
     "points": 1,
     "schema_version": 3,
     "solution": true
    }
   },
   "source": [
    "YOUR ANSWER HERE"
   ]
  }
 ],
 "metadata": {
  "kernelspec": {
   "display_name": "Python 3",
   "language": "python",
   "name": "python3"
  },
  "language_info": {
   "codemirror_mode": {
    "name": "ipython",
    "version": 3
   },
   "file_extension": ".py",
   "mimetype": "text/x-python",
   "name": "python",
   "nbconvert_exporter": "python",
   "pygments_lexer": "ipython3",
   "version": "3.6.6"
  },
  "toc": {
   "base_numbering": 1,
   "nav_menu": {},
   "number_sections": true,
   "sideBar": true,
   "skip_h1_title": false,
   "title_cell": "Table of Contents",
   "title_sidebar": "Contents",
   "toc_cell": false,
   "toc_position": {},
   "toc_section_display": true,
   "toc_window_display": false
  },
  "varInspector": {
   "cols": {
    "lenName": 16,
    "lenType": 16,
    "lenVar": 40
   },
   "kernels_config": {
    "python": {
     "delete_cmd_postfix": "",
     "delete_cmd_prefix": "del ",
     "library": "var_list.py",
     "varRefreshCmd": "print(var_dic_list())"
    },
    "r": {
     "delete_cmd_postfix": ") ",
     "delete_cmd_prefix": "rm(",
     "library": "var_list.r",
     "varRefreshCmd": "cat(var_dic_list()) "
    }
   },
   "types_to_exclude": [
    "module",
    "function",
    "builtin_function_or_method",
    "instance",
    "_Feature"
   ],
   "window_display": false
  }
 },
 "nbformat": 4,
 "nbformat_minor": 2
}
